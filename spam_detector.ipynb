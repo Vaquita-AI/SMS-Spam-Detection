{
 "cells": [
  {
   "cell_type": "markdown",
   "id": "82e7877d",
   "metadata": {},
   "source": [
    "# SMS-Spam-Detection using Naive Bayes Classifier"
   ]
  },
  {
   "cell_type": "markdown",
   "id": "09f79f88",
   "metadata": {},
   "source": [
    "# 0. Introduction"
   ]
  },
  {
   "cell_type": "markdown",
   "id": "148e88d0",
   "metadata": {},
   "source": [
    "In this project, we aim to develop a machine learning model to accurately classify text messages as either spam or not spam. The growth of unwanted and often malicious spam messages poses a significant inconvenience and potential security risk to users. The objective is to reduce the number of unwanted messages received by users, enhancing their communication experience.\n",
    "\n",
    "We will utilize the SMS Spam Collection v.1 dataset, a well-curated collection of 5,574 English text messages. This dataset is  labeled to distinguish between 'ham' (legitimate) and 'spam' messages. The dataset's compilation from different sources ensures a rich variety of text samples, which is crucial for the effectiveness of our classification algorithms.\n",
    "\n",
    "By leveraging natural language processing (NLP) techniques, we intend to preprocess the text data, extract meaningful features, and apply a classification algorithm to filter out spam.\n",
    "\n",
    "We will employ two standard methods for text representation: Bag-of-Words (BoW) and Term Frequency-Inverse Document Frequency (TF-IDF). Our process begins with text data preprocessing to ensure consistency and clarity for the model. Following this, we will train Naive Bayes classifiers on both BoW and TF-IDF feature sets.\n",
    "\n",
    "The effectiveness of our models will be assessed using several metrics, with a particular emphasis on the F1 score due to its ability to balance precision and recall, providing a more comprehensive view of the model's performance.\n",
    "\n",
    "Ultimately, the success of our model will be determined by its performance on a set of unseen SMS messages. This final testing phase is crucial as it simulates real-world conditions and ensures that our model can effectively identify spam in a live environment."
   ]
  },
  {
   "cell_type": "markdown",
   "id": "fad12eba",
   "metadata": {},
   "source": [
    "**Dataset and Resources**\n",
    "\n",
    "* SMS Spam Collection Dataset: https://archive.ics.uci.edu/dataset/228/sms+spam+collection"
   ]
  },
  {
   "cell_type": "markdown",
   "id": "7e0d34f7",
   "metadata": {},
   "source": [
    "# 1. Importing the necessary Modules and reading the Dataset"
   ]
  },
  {
   "cell_type": "code",
   "execution_count": 1,
   "id": "8b0d9107",
   "metadata": {},
   "outputs": [],
   "source": [
    "import pandas as pd\n",
    "import numpy as np\n",
    "import re\n",
    "from collections import defaultdict, Counter\n",
    "from math import log, sqrt\n",
    "from sklearn.model_selection import train_test_split\n",
    "from sklearn.naive_bayes import MultinomialNB\n",
    "from sklearn.metrics import accuracy_score, precision_recall_fscore_support\n",
    "\n",
    "df = pd.read_excel('SpamDS.xlsx', header=None, names=['label', 'message'])"
   ]
  },
  {
   "cell_type": "markdown",
   "id": "232f4222",
   "metadata": {},
   "source": [
    "The dataset was saved as a .xlsx file due to higher familiarity with data processing using pandas lib."
   ]
  },
  {
   "cell_type": "markdown",
   "id": "373a2739",
   "metadata": {},
   "source": [
    "# 2. Data Preprocessing"
   ]
  },
  {
   "cell_type": "markdown",
   "id": "631aa035",
   "metadata": {},
   "source": [
    "## Steps:\n",
    "Tokenization: Splitting text into individual words or tokens.\n",
    "\n",
    "Lowercasing: Converting all characters in the text to lowercase to ensure uniformity.\n",
    "\n",
    "Removing Stop Words: Eliminating common words that do not contribute to the meaning of the text for the analysis.\n",
    "\n",
    "Stemming: Reducing words to their root form to treat different forms of the same word as equivalent.\n",
    "\n",
    "Vectorization: Converting text into numerical vectors that ML models can understand. In our approach, this is done using\n",
    "Bag-of-Words (BoW) and TF-IDF methods."
   ]
  },
  {
   "cell_type": "code",
   "execution_count": 2,
   "id": "f4109920",
   "metadata": {
    "scrolled": true
   },
   "outputs": [],
   "source": [
    "# Preprocessing functions\n",
    "def tokenize(message):\n",
    "    return re.findall(r'\\b\\w+\\b', message.lower())\n",
    "\n",
    "def remove_stop_words(tokens):\n",
    "    stop_words = set('for a of the and to in'.split())  # This set can be expanded\n",
    "    return [t for t in tokens if t not in stop_words]\n",
    "\n",
    "def stem(tokens):\n",
    "    # A simple stemmer \n",
    "    return [re.sub(r'(ing|ly|ed|ious|ies|ive|es|s|ment)$', '', t) for t in tokens]\n",
    "\n",
    "def get_vocabulary(messages):\n",
    "    vocabulary = set()\n",
    "    for message in messages:\n",
    "        for token in message:\n",
    "            vocabulary.add(token)\n",
    "    return vocabulary\n",
    "\n",
    "# BoW feature extraction\n",
    "def vectorize_bow(messages, vocabulary):\n",
    "    vocabulary = list(vocabulary)\n",
    "    vectors = np.zeros((len(messages), len(vocabulary)))\n",
    "    for i, message in enumerate(messages):\n",
    "        message_counts = Counter(message)\n",
    "        for token, count in message_counts.items():\n",
    "            if token in vocabulary:\n",
    "                vectors[i, vocabulary.index(token)] = count\n",
    "    return vectors\n",
    "\n",
    "# TF-IDF feature extraction\n",
    "def vectorize_tfidf(messages, vocabulary):\n",
    "    word_indices = {word: i for i, word in enumerate(vocabulary)}\n",
    "    word_counts_per_sms = [Counter(message) for message in messages]\n",
    "    tf = np.zeros((len(messages), len(vocabulary)))\n",
    "    idf = np.zeros(len(vocabulary))\n",
    "    for i, message in enumerate(messages):\n",
    "        for token in message:\n",
    "            if token in word_indices:\n",
    "                tf[i, word_indices[token]] = word_counts_per_sms[i][token] / len(message)\n",
    "    for i, token in enumerate(vocabulary):\n",
    "        idf[i] = log(len(messages) / (1 + sum(1 for message in messages if token in message)))\n",
    "    tfidf = tf * idf\n",
    "    return tfidf"
   ]
  },
  {
   "cell_type": "markdown",
   "id": "b5823da2",
   "metadata": {},
   "source": [
    "# 3. Method"
   ]
  },
  {
   "cell_type": "markdown",
   "id": "337687e6",
   "metadata": {},
   "source": [
    "## Steps: \n",
    "\n",
    "Preprocessing: Apply the preprocessing functions to the dataset.\n",
    "\n",
    "Vocabulary Creation: Compile a list of all unique words across the cleaned messages to form a vocabulary.\n",
    "\n",
    "Vectorization: Convert the text messages into numerical vectors using both BoW and TF-IDF functions.\n",
    "\n",
    "Data Splitting: Divide the dataset into training and testing sets, with an 80/20 split used.\n",
    "\n",
    "Model Training: Train two separate Naive Bayes classifiers on the training data: one with BoW vectors and the other with TF-IDF vectors."
   ]
  },
  {
   "cell_type": "code",
   "execution_count": 3,
   "id": "a260b1b4",
   "metadata": {},
   "outputs": [
    {
     "data": {
      "text/plain": [
       "MultinomialNB()"
      ]
     },
     "execution_count": 3,
     "metadata": {},
     "output_type": "execute_result"
    }
   ],
   "source": [
    "# Preprocess messages\n",
    "processed_messages = [stem(remove_stop_words(tokenize(str(message)))) for message in df['message']]\n",
    "\n",
    "# Create vocabulary\n",
    "vocabulary = list(get_vocabulary(processed_messages))\n",
    "\n",
    "# Vectorize messages using BoW\n",
    "vectors_bow = vectorize_bow(processed_messages, vocabulary)\n",
    "\n",
    "# Vectorize messages using TF-IDF\n",
    "vectors_tfidf = vectorize_tfidf(processed_messages, vocabulary)\n",
    "\n",
    "# Split dataset (80/20)\n",
    "X_train_bow, X_test_bow, y_train, y_test = train_test_split(vectors_bow, df['label'], test_size=0.2, random_state=42)\n",
    "X_train_tfidf, X_test_tfidf, _, _ = train_test_split(vectors_tfidf, df['label'], test_size=0.2, random_state=42)\n",
    "\n",
    "# Train Naive Bayes classifier using BoW\n",
    "clf_bow = MultinomialNB()\n",
    "clf_bow.fit(X_train_bow, y_train)\n",
    "\n",
    "# Train Naive Bayes classifier using TF-IDF\n",
    "clf_tfidf = MultinomialNB()\n",
    "clf_tfidf.fit(X_train_tfidf, y_train)"
   ]
  },
  {
   "cell_type": "markdown",
   "id": "ba9d0f17",
   "metadata": {},
   "source": [
    "## Hyperparameters\n",
    "\n",
    "#### For the Naive Bayes classifier:\n",
    "\n",
    "alpha: The smoothing parameter. The default is set to 1.0, which indicates Laplace smoothing.\n",
    "\n",
    "class_prior: Prior probabilities of the classes. If not specified, the classifier assumes uniform priors.\n",
    "\n",
    "#### For vectorization:\n",
    "Hyperparameters might include the maximum number of features to include, whether to use n-grams, and the maximum and minimum document frequency thresholds for including words.\n",
    "\n",
    "#### Decision on hyperparameter optimization:\n",
    "Since both models achieved accuracy results above 97% without hyperparameter tuning, as you will see shortly below, the decision was to use the default configurations for the MultinomialNB and vectorization."
   ]
  },
  {
   "cell_type": "markdown",
   "id": "8fe84739",
   "metadata": {},
   "source": [
    "# 4. Model Evaluation"
   ]
  },
  {
   "cell_type": "markdown",
   "id": "ce7becff",
   "metadata": {},
   "source": [
    "## Evaluation Metrics:\n",
    "\n",
    "The models are evaluated using accuracy, precision, recall, and F1 score. Accuracy measures the overall correctness of the model, precision measures the correctness of positive predictions, recall measures the model's ability to find all positive instances, and the F1 score is the harmonic mean of precision and recall. F1 score is usually a more informative metric for this type of task."
   ]
  },
  {
   "cell_type": "code",
   "execution_count": 4,
   "id": "4073aef5",
   "metadata": {},
   "outputs": [
    {
     "name": "stdout",
     "output_type": "stream",
     "text": [
      "BoW Accuracy: 0.98\n",
      "BoW Precision: 0.95\n",
      "BoW Recall: 0.94\n",
      "BoW F1 Score: 0.94\n",
      "TF-IDF Accuracy: 0.97\n",
      "TF-IDF Precision: 0.92\n",
      "TF-IDF Recall: 0.82\n",
      "TF-IDF F1 Score: 0.87\n"
     ]
    }
   ],
   "source": [
    "# Predict on test set using BoW\n",
    "y_pred_bow = clf_bow.predict(X_test_bow)\n",
    "\n",
    "# Predict on test set using TF-IDF\n",
    "y_pred_tfidf = clf_tfidf.predict(X_test_tfidf)\n",
    "\n",
    "# Evaluate the classifier using BoW\n",
    "accuracy_bow = accuracy_score(y_test, y_pred_bow)\n",
    "precision_bow, recall_bow, f1_bow, _ = precision_recall_fscore_support(y_test, y_pred_bow, average='binary', pos_label='spam')\n",
    "\n",
    "# Evaluate the classifier using TF-IDF\n",
    "accuracy_tfidf = accuracy_score(y_test, y_pred_tfidf)\n",
    "precision_tfidf, recall_tfidf, f1_tfidf, _ = precision_recall_fscore_support(y_test, y_pred_tfidf, average='binary', pos_label='spam')\n",
    "\n",
    "print(f'BoW Accuracy: {accuracy_bow:.2f}')\n",
    "print(f'BoW Precision: {precision_bow:.2f}')\n",
    "print(f'BoW Recall: {recall_bow:.2f}')\n",
    "print(f'BoW F1 Score: {f1_bow:.2f}')\n",
    "\n",
    "print(f'TF-IDF Accuracy: {accuracy_tfidf:.2f}')\n",
    "print(f'TF-IDF Precision: {precision_tfidf:.2f}')\n",
    "print(f'TF-IDF Recall: {recall_tfidf:.2f}')\n",
    "print(f'TF-IDF F1 Score: {f1_tfidf:.2f}')"
   ]
  },
  {
   "cell_type": "markdown",
   "id": "7b9eee0f",
   "metadata": {},
   "source": [
    "# 5. Findings"
   ]
  },
  {
   "cell_type": "code",
   "execution_count": 5,
   "id": "b0a540bd",
   "metadata": {},
   "outputs": [
    {
     "data": {
      "image/png": "[encoded data removed]",
      "text/plain": [
       "<Figure size 640x480 with 1 Axes>"
      ]
     },
     "metadata": {},
     "output_type": "display_data"
    }
   ],
   "source": [
    "import matplotlib.pyplot as plt\n",
    "\n",
    "# Performance metrics\n",
    "metrics = ['Accuracy', 'Precision', 'Recall', 'F1 Score']\n",
    "bow_scores = [0.98, 0.95, 0.94, 0.94]\n",
    "tfidf_scores = [0.97, 0.92, 0.82, 0.87]\n",
    "\n",
    "# Set up the bar chart\n",
    "x = range(len(metrics))  # the label locations\n",
    "width = 0.35  # the width of the bars\n",
    "\n",
    "fig, ax = plt.subplots()\n",
    "rects1 = ax.bar(x, bow_scores, width, label='BoW')\n",
    "rects2 = ax.bar([p + width for p in x], tfidf_scores, width, label='TF-IDF')\n",
    "\n",
    "# Add some text for labels, title and custom x-axis tick labels, etc.\n",
    "ax.set_ylabel('Scores')\n",
    "ax.set_title('Scores by model and metric')\n",
    "ax.set_xticks([p + width / 2 for p in x])\n",
    "ax.set_xticklabels(metrics)\n",
    "ax.legend(loc='upper left', bbox_to_anchor=(1, 1))\n",
    "\n",
    "\n",
    "# Attach a text label above each bar in rects1 and rects2, displaying its height.\n",
    "def autolabel(rects):\n",
    "    for rect in rects:\n",
    "        height = rect.get_height()\n",
    "        ax.annotate('{}'.format(height),\n",
    "                    xy=(rect.get_x() + rect.get_width() / 2, height),\n",
    "                    xytext=(0, 3),  # 3 points vertical offset\n",
    "                    textcoords=\"offset points\",\n",
    "                    ha='center', va='bottom')\n",
    "\n",
    "autolabel(rects1)\n",
    "autolabel(rects2)\n",
    "\n",
    "fig.tight_layout()\n",
    "\n",
    "plt.show()"
   ]
  },
  {
   "cell_type": "markdown",
   "id": "a0881974",
   "metadata": {},
   "source": [
    "After analyzing the two text analysis models, we found that the BoW model performed slightly better. It was more accurate in identifying spam messages, with higher scores in precision (correctly identifying spam) and recall (not missing spam messages). The TF-IDF model was also effective but had a bit more trouble in correctly labeling all spam messages, which is reflected in its lower recall score.\n",
    "\n",
    "Essentially, the BoW model was more reliable for this task. It made fewer mistakes in both detecting spam and avoiding false detections. The bar charts comparison reveals that the BoW model outperformed the TF-IDF model in all evaluated areas, indicating it was more effective for this particular task."
   ]
  },
  {
   "cell_type": "markdown",
   "id": "f6b7399c",
   "metadata": {},
   "source": [
    "# 6. Drawbacks and Potential Improvements"
   ]
  },
  {
   "cell_type": "markdown",
   "id": "bcd7475b",
   "metadata": {},
   "source": [
    "## Drawbacks:\n",
    "\n",
    "Both models treat words as independent features, which means they do not capture context or word order.\n",
    "\n",
    "The TF-IDF model may not perform as well if important words also appear frequently in non-spam messages.\n",
    "\n",
    "## Potential Improvements:\n",
    "\n",
    "Experiment with different classifiers, such as Support Vector Machines or deep learning models, which might capture more complex patterns in the data.\n",
    "\n",
    "Use more advanced NLP techniques like word embeddings that can capture semantic meaning and context.\n",
    "\n",
    "Fine-tune hyperparameters using techniques like grid search or random search to optimize model performance."
   ]
  },
  {
   "cell_type": "markdown",
   "id": "68533f98",
   "metadata": {},
   "source": [
    "# 7. Using the trained models to make predictions on new text messages"
   ]
  },
  {
   "cell_type": "code",
   "execution_count": 6,
   "id": "9b5820d4",
   "metadata": {
    "scrolled": false
   },
   "outputs": [
    {
     "name": "stdout",
     "output_type": "stream",
     "text": [
      "Message: \"Congratulations! You've been selected for a chance to win a free cruise to the Bahamas! Call 1-800-SPAM-NOW to claim your prize!\"\n",
      "BoW model prediction: Spam\n",
      "TF-IDF model prediction: Spam\n",
      "------------------------------------------------------------------------------------------------------------------------\n",
      "Message: \"URGENT! You have won a 1-week FREE membership in our $100,000 Cash Reward program. Press 1 now to learn more.\"\n",
      "BoW model prediction: Spam\n",
      "TF-IDF model prediction: Spam\n",
      "------------------------------------------------------------------------------------------------------------------------\n",
      "Message: \"You've won a $500 Amazon gift card. Click here to claim now: http://bit.ly/sodmqj before the offer expires!\"\n",
      "BoW model prediction: Spam\n",
      "TF-IDF model prediction: Spam\n",
      "------------------------------------------------------------------------------------------------------------------------\n",
      "Message: \"Hey there! You are lucky today. You've been chosen to receive a 50% discount on our exclusive diet pills. Rush your order at www.geiloffers.com.\"\n",
      "BoW model prediction: Spam\n",
      "TF-IDF model prediction: Not Spam\n",
      "------------------------------------------------------------------------------------------------------------------------\n",
      "Message: \"FINAL NOTICE: Your account has been selected for a $1000 Walmart gift card. Use code FREE at www.spam-giftcards.com to claim now!\"\n",
      "BoW model prediction: Spam\n",
      "TF-IDF model prediction: Spam\n",
      "------------------------------------------------------------------------------------------------------------------------\n",
      "Message: \"Hi, this is Mom. Can you pick up some milk on your way home? Thanks, love you!\"\n",
      "BoW model prediction: Not Spam\n",
      "TF-IDF model prediction: Not Spam\n",
      "------------------------------------------------------------------------------------------------------------------------\n",
      "Message: \"Reminder: Your dentist appointment is scheduled for tomorrow at 3 PM. Please call us if you need to reschedule.\"\n",
      "BoW model prediction: Not Spam\n",
      "TF-IDF model prediction: Not Spam\n",
      "------------------------------------------------------------------------------------------------------------------------\n",
      "Message: \"Good morning! Don't forget we have a meeting at 10 AM with the team. Have a great day!\"\n",
      "BoW model prediction: Not Spam\n",
      "TF-IDF model prediction: Not Spam\n",
      "------------------------------------------------------------------------------------------------------------------------\n",
      "Message: \"Hi, it's Mike from the gym. Just a heads-up that the gym will be closed for maintenance this Friday.\"\n",
      "BoW model prediction: Not Spam\n",
      "TF-IDF model prediction: Not Spam\n",
      "------------------------------------------------------------------------------------------------------------------------\n",
      "Message: \"Your package has been shipped and should arrive by next Wednesday. Track your shipment here: www.DHL.com/track.\"\n",
      "BoW model prediction: Spam\n",
      "TF-IDF model prediction: Not Spam\n",
      "------------------------------------------------------------------------------------------------------------------------\n"
     ]
    }
   ],
   "source": [
    "# Create a mapping of word to index based on the existing vocabulary\n",
    "word_indices = {word: i for i, word in enumerate(vocabulary)}\n",
    "\n",
    "def preprocess_and_vectorize(input_text, vocabulary, word_indices):\n",
    "    # Preprocess the input text\n",
    "    tokens = stem(remove_stop_words(tokenize(input_text)))\n",
    "    \n",
    "    # Initialize vectors\n",
    "    vector_bow = np.zeros(len(vocabulary))\n",
    "    vector_tfidf = np.zeros(len(vocabulary))\n",
    "    \n",
    "    # BoW Vectorization\n",
    "    token_counts = Counter(tokens)\n",
    "    for token in tokens:\n",
    "        index = word_indices.get(token)\n",
    "        if index is not None:\n",
    "            vector_bow[index] = token_counts[token]\n",
    "    \n",
    "    # TF-IDF Vectorization\n",
    "    # Calculate Term Frequency (TF)\n",
    "    tf = {word: count / len(tokens) for word, count in token_counts.items()}\n",
    "    \n",
    "    # Calculate Inverse Document Frequency (IDF)\n",
    "    idf = {word: log((1 + len(processed_messages)) / (1 + sum(1 for message in processed_messages if word in message))) for word in token_counts}\n",
    "    \n",
    "    # Calculate TF-IDF\n",
    "    for token in tokens:\n",
    "        index = word_indices.get(token)\n",
    "        if index is not None:\n",
    "            vector_tfidf[index] = tf[token] * idf[token]\n",
    "    \n",
    "    return vector_bow.reshape(1, -1), vector_tfidf.reshape(1, -1)\n",
    "\n",
    "\n",
    "# List of new messages\n",
    "messages = [\n",
    "    \"Congratulations! You've been selected for a chance to win a free cruise to the Bahamas! Call 1-800-SPAM-NOW to claim your prize!\",\n",
    "    \"URGENT! You have won a 1-week FREE membership in our $100,000 Cash Reward program. Press 1 now to learn more.\",\n",
    "    \"You've won a $500 Amazon gift card. Click here to claim now: http://bit.ly/sodmqj before the offer expires!\",\n",
    "    \"Hey there! You are lucky today. You've been chosen to receive a 50% discount on our exclusive diet pills. Rush your order at www.geiloffers.com.\",\n",
    "    \"FINAL NOTICE: Your account has been selected for a $1000 Walmart gift card. Use code FREE at www.spam-giftcards.com to claim now!\",\n",
    "    \"Hi, this is Mom. Can you pick up some milk on your way home? Thanks, love you!\",\n",
    "    \"Reminder: Your dentist appointment is scheduled for tomorrow at 3 PM. Please call us if you need to reschedule.\",\n",
    "    \"Good morning! Don't forget we have a meeting at 10 AM with the team. Have a great day!\",\n",
    "    \"Hi, it's Mike from the gym. Just a heads-up that the gym will be closed for maintenance this Friday.\",\n",
    "    \"Your package has been shipped and should arrive by next Wednesday. Track your shipment here: www.DHL.com/track.\"\n",
    "]\n",
    "\n",
    "# Process and predict each message\n",
    "for input_text in messages:\n",
    "    # Preprocess and vectorize the new input text\n",
    "    vector_bow, vector_tfidf = preprocess_and_vectorize(input_text, vocabulary, word_indices)\n",
    "    \n",
    "    # Predict using the trained Naive Bayes classifiers\n",
    "    prediction_bow = clf_bow.predict(vector_bow)\n",
    "    prediction_tfidf = clf_tfidf.predict(vector_tfidf)\n",
    "    \n",
    "    print(f'Message: \"{input_text}\"')\n",
    "    print(f'BoW model prediction: {\"Spam\" if prediction_bow[0] == \"spam\" else \"Not Spam\"}')\n",
    "    print(f'TF-IDF model prediction: {\"Spam\" if prediction_tfidf[0] == \"spam\" else \"Not Spam\"}')\n",
    "    print('---'*40)"
   ]
  },
  {
   "cell_type": "markdown",
   "id": "7c230bf1",
   "metadata": {},
   "source": [
    "# 8. Conclusion"
   ]
  },
  {
   "cell_type": "markdown",
   "id": "5e649b57",
   "metadata": {},
   "source": [
    "In conclusion, our project successfully implemented and compared two Naive Bayes classifiers using Bag-of-Words and TF-IDF vectorization methods to classify SMS messages as spam or ham. \n",
    "\n",
    "The BoW model demonstrated superior performance across all evaluation metrics, particularly in precision and recall, suggesting it is more adept at identifying spam messages in this dataset. While both models showed high accuracy, the TF-IDF model exhibited some limitations, especially in recall, indicating a tendency to miss certain spam messages. \n",
    "\n",
    "The final testing on a set of new, unseen messages confirmed the practical applicability of our trained models, with the BoW model consistently outperforming the TF-IDF model. These results underscore the importance of choosing the right feature extraction method in spam detection tasks and highlight areas for future improvement, such as experimenting with more complex models and advanced NLP techniques to capture contextual variations better."
   ]
  }
 ],
 "metadata": {
  "kernelspec": {
   "display_name": "Python 3 (ipykernel)",
   "language": "python",
   "name": "python3"
  },
  "language_info": {
   "codemirror_mode": {
    "name": "ipython",
    "version": 3
   },
   "file_extension": ".py",
   "mimetype": "text/x-python",
   "name": "python",
   "nbconvert_exporter": "python",
   "pygments_lexer": "ipython3",
   "version": "3.7.9"
  }
 },
 "nbformat": 4,
 "nbformat_minor": 5
}
